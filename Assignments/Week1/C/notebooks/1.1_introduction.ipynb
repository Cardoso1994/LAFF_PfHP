{
 "cells": [
  {
   "cell_type": "code",
   "execution_count": 1,
   "metadata": {},
   "outputs": [],
   "source": [
    "from IPython.display import Image\n",
    "from oct2py import octave as oct\n",
    "from os.path import join\n",
    "import scipy.io as sio\n",
    "import numpy as np\n",
    "import matplotlib.pyplot as plt\n",
    "\n",
    "def get_matlab_data(directory, filename):\n",
    "    \"\"\"\n",
    "    Imports the matlab scripts generated during execution of\n",
    "        C codes, and returns an array with the data neccesary\n",
    "        for analysis of performance\n",
    "    \"\"\"\n",
    "    oct.eval(f\"cd {directory}\")\n",
    "    oct.eval(f\"{filename}\")\n",
    "    oct.eval(f\"save -v7 {filename}.mat\")\n",
    "    data = sio.loadmat(f\"{join(directory, filename)}.mat\")\n",
    "\n",
    "    return data['data']"
   ]
  },
  {
   "cell_type": "markdown",
   "metadata": {},
   "source": [
    "# Week 1\n",
    "\n",
    "## Introduction\n",
    "This course is intended for people who is already familiar with linear\n",
    "algebra concepts, and feels pretty confident about it.The main purpose of the\n",
    "course is to give some initial background on the development of scientific\n",
    "computation for **high performance**. All subjects are explained by using\n",
    "*matrix-matrix* multiplication as example, which is expressed as\n",
    "\n",
    "$ C := AB + C $\n",
    "\n",
    "The operation above performs a matrix-matrix multiplication between matrices\n",
    "`A` and `B`, the result of this multiplication is then added to the matrix\n",
    "`C`. In english this would be read as \"`C` becomes `A` times `B` plus `C`\"\n",
    "\n",
    "### Notation\n",
    "As in any other course, it is important to define the notation on which all the\n",
    "future material is going to be based on.\n",
    "\n",
    "We start defining our three matrices `A` `B` and `C`, of sizes `m x k`, `k x n`\n",
    "and `m x n` respectively\n",
    "\n",
    "| Matrix |  size  |\n",
    "|--------|--------|\n",
    "|   A    | m x k  |\n",
    "|   B    | k x n  |\n",
    "|   C    | m x n  |\n",
    "\n",
    "Now, each of this matrices can be divided in other forms of sub-structures,\n",
    "such as rows, columns, and individual entries. A matrix is always written as an\n",
    "upper case roman letter, whereas rows and columns of the matrix are considered\n",
    "vectors, and vectors are refered to with lower case roman letters, and last but\n",
    "not least, individual entries (of matrices or vectors) as well as scalars are\n",
    "written with the corresponding greek lower case letter.\n",
    "\n",
    "| Matrix | Vector |  Entry  |\n",
    "|--------|--------|---------|\n",
    "|   A    |    a   | $\\alpha$|\n",
    "|   B    |    b   | $\\beta$ |\n",
    "|   C    |    c   | $\\gamma$|\n",
    "\n",
    "An example of the different forms of slicing a matrix, and its corresponding\n",
    "subentries is given below, with matrix `A` as an example.\n",
    "\n",
    "$\n",
    "A = \\begin{bmatrix} A \\end{bmatrix}\n",
    "= \\begin{bmatrix} a_0 & |  & a_1  & | & ... & | & a_{n - 1} \\end{bmatrix}\n",
    "= \\begin{bmatrix} a^{\\sim T}_0 \\\\  --\\\\a^{\\sim T}_1 \\\\ -- \\\\ \\vdots \\\\ -- \\\\ a^{\\sim T}_{m - 1}\n",
    "    \\end{bmatrix}\n",
    "= \\begin{bmatrix}\n",
    "\\alpha_{0, 0} & \\alpha_{0, 1} & \\dots & \\alpha_{0, n-1} \\\\\n",
    "\\alpha_{1, 0} & \\alpha_{1, 1} & \\dots & \\alpha_{1, n-1} \\\\\n",
    "\\vdots & \\vdots & \\dots & \\vdots \\\\\n",
    "\\vdots & \\vdots & \\dots & \\vdots \\\\\n",
    "\\alpha_{m-1, 0} & \\alpha_{m-1, 1} & \\dots & \\alpha_{m-1, n-1}\n",
    "\\end{bmatrix}\n",
    "$\n",
    "\n",
    "Another aspect to keep in mind, is that all routines developed during the\n",
    "course for **matrix-matrix** multiplication, involve `for` loops across the\n",
    "dimensions of the matrices `A`, `B` and `C`, these are `m`, `n` and `k`.\n",
    "\n",
    "### Matrix-matrix multiplication\n",
    "Traditionally, **matrix-matrix** multiplication is taught via dot products of\n",
    "rows from the matrix on the right, and columns of the matrix on the left. This\n",
    "is, for a particular entry in matrix `C`, $\\gamma_{i, j}$\n",
    "\n",
    "$\n",
    "\\gamma_{i, j} = \\sum_{k = 0}^{p - 1} \\alpha_{i, p} \\beta_{p, j} + \\gamma_{i, j}\n",
    "$\n",
    "\n",
    "where `i`, `j` and `p` are *iterators* used to traverse across the matrices in\n",
    "its corresponding direction, according to the following table\n",
    "\n",
    "| Dimension | iterator |\n",
    "|-----------|----------|\n",
    "|     m     |     i    |\n",
    "|     k     |     p    |\n",
    "|     n     |     j    |\n",
    "\n",
    "An schematic for the structure of **matrix-matrix** multiplication is shown\n",
    "below"
   ]
  },
  {
   "cell_type": "code",
   "execution_count": 2,
   "metadata": {
    "scrolled": false
   },
   "outputs": [
    {
     "data": {
      "image/png": "[encoded data removed]",
      "text/plain": [
       "<IPython.core.display.Image object>"
      ]
     },
     "execution_count": 2,
     "metadata": {
      "image/png": {
       "height": 300,
       "width": 600
      }
     },
     "output_type": "execute_result"
    }
   ],
   "source": [
    "Image(filename=\"./img/basic_gemm_scheme.png\", width=600, height=300)"
   ]
  },
  {
   "cell_type": "markdown",
   "metadata": {},
   "source": [
    "A typical pseudocode (in *python*) to compute **matrix-matrix** multiplication\n",
    "according to the dot product formula is as follows\n",
    "\n",
    "```python\n",
    "for i in range(m):\n",
    "    for j in range(n):\n",
    "        for p in range(k):\n",
    "            C[i, j] = A[i, p] * B[p, j] + C[i, j]\n",
    "```\n",
    "\n",
    "Since the course's codes are written in *C* (remember, High Performance), the\n",
    "*C* code for the dot product formula is as follows\n",
    "```C\n",
    "#define alpha(i, j) A[(j) * ldA + i]   // map alpha(i, j) to array A \n",
    "#define beta(i, j)  B[(j) * ldB + i]   // map beta(i, j)  to array B\n",
    "#define gamma(i, j) C[(j) * ldC + i]   // map gamma(i, j) to array C\n",
    "\n",
    "void MyGemm(int m, int n, int k, double *A, int ldA,\n",
    "         double *B, int ldB, double *C, int ldC)\n",
    "{\n",
    "    for (int i = 0; i < m; i++)\n",
    "        for (int j = 0; j < n; j++)\n",
    "            for (int p = 0; p < k; p++)\n",
    "            {\n",
    "                // staff implementation\n",
    "                gamma(i, j) += alpha(i, p) * beta(p, j);\n",
    "\n",
    "                // pointer arithmetic implementations\n",
    "                *(C + i + j * ldC) += *(A + i + p * ldA) * *(B + p + j * ldB);\n",
    "                C[i + j * ldC] += A[i + p * lda] * B[p + j * ldB];\n",
    "            }\n",
    "}\n",
    "```\n",
    "\n",
    "The course staff defines some preprocessors that define the elements `alpha`,\n",
    "`beta` and `gamma` in order to make easier and also more similar to the\n",
    "mathematical notation, but one can easily spot that this is just *sugar*, and\n",
    "that under the hood those elements are still accesible with *pointer arithmetic*.\n",
    "\n",
    "### Performance - Initial Notes\n",
    "In [/Assignments/Week1/C/Gemm_IJP.c](../Gemm_IJP.c) there\n",
    "is a simple implementation of the code presented above, which computes $C := AB\n",
    "+ C$, this will serve as a first approach to show the performance of the\n",
    "routines that are going to be developed.\n"
   ]
  },
  {
   "cell_type": "code",
   "execution_count": 3,
   "metadata": {},
   "outputs": [
    {
     "name": "stdout",
     "output_type": "stream",
     "text": [
      "../data\n",
      "error: graphics_toolkit: gnuplot toolkit is not available\n",
      "error: called from\n",
      "    graphics_toolkit at line 81 column 5\n",
      "error: graphics_toolkit: gnuplot toolkit is not available\n",
      "error: called from\n",
      "    graphics_toolkit at line 81 column 5\n"
     ]
    }
   ],
   "source": [
    "directory = join(\"..\", \"data\")\n",
    "print(directory)\n",
    "data = get_matlab_data(directory=directory, filename=\"output_IJP\")"
   ]
  },
  {
   "cell_type": "code",
   "execution_count": 4,
   "metadata": {
    "scrolled": true
   },
   "outputs": [
    {
     "data": {
      "image/png": "[encoded data removed]",
      "text/plain": [
       "<Figure size 576x360 with 1 Axes>"
      ]
     },
     "metadata": {
      "needs_background": "light"
     },
     "output_type": "display_data"
    }
   ],
   "source": [
    "if np.any(np.abs(data[:, 5]) > 1e-10):\n",
    "    raise Exception(\"Hmmm, better check if there is an accuracy problem\")\n",
    "    \n",
    "figsize=[8, 5]\n",
    "\n",
    "fig, ax = plt.subplots(1, 1, figsize=figsize)\n",
    "ax.set_title(\"Dimension vs Time\")\n",
    "ax.set_xlabel('Dimension m = n = k')\n",
    "ax.set_ylabel('Time (sec)')\n",
    "mean_fig = ax.plot(data[:, 0], data[:, 3], '*r')\n",
    "mean_fig = ax.plot(data[:, 0], data[:, 3], 'r', label=\"IJP\")\n",
    "ax.legend(loc=\"upper left\", fontsize=\"x-large\")\n",
    "plt.show()"
   ]
  },
  {
   "cell_type": "markdown",
   "metadata": {},
   "source": [
    "From the plot above we can see that the execution time needed to perform\n",
    "**matrix-matrix** computation is a function of the size of the matrices\n",
    "involved in the computation (in this case the matrices are square matrices of\n",
    "equal size, $m = n = k$).\n",
    "\n",
    "We can tell now that the time execution needed to perform **matrix-matrix**\n",
    "multiplication grows in some sort of polinomial function $f(n)$, which is\n",
    "deduced below. From the formula\n",
    "\n",
    "$\n",
    "\\gamma_{i, j} = \\sum_{p = 0}^{k-1} \\alpha_{i, p} \\beta_{p, j} + \\gamma_{i, j}\n",
    "$\n",
    "\n",
    "We see that for each element in matrix `C`, we need to, first, perform a\n",
    "multiplication between one entry of `A` and one of `B`, and then, an addition\n",
    "of the resulting multiplication to the corresponding entry of `C` is performed,\n",
    "this is, we perform two floating point operations for `k` times for every entry\n",
    "`$\\gamma$` in matrix `C` (because we perform a dot product with the\n",
    "corresponding row of `A` and the corresponding column of `B`, both of size\n",
    "`p`), this is repeated for every entry of `C`, where `C` is size `m x n` which\n",
    "means we repeat this process for `m x n` entries\n",
    "\n",
    "$\n",
    "\\#FLOPS = mn \\left( 2k \\right) = 2mnk\n",
    "$\n",
    "\n",
    "Since we are working with square matrices here ($m = n = k$)\n",
    "\n",
    "$\n",
    "\\#FLOPS = 2m^3\n",
    "$\n",
    "\n",
    "To know the ammount of FLOPS needed in a particular computation lets us now\n",
    "report and analyze the performance of an algorithm in terms of some sort of\n",
    "rate of computation, which will prove helpful when comparing algorithms and\n",
    "routines against each other. The rate we are talking about is\n",
    "$\\frac{GFLOPS}{sec}$, which is `GigaFLOPS per second` which tells us how many\n",
    "floating point operations our algorithm is able to perform.\n",
    "\n",
    "$\n",
    "Rate = \\frac{2m^3}{t} \\times 10^{-9}\n",
    "$\n",
    "where:\n",
    "* m: dimension of matrices\n",
    "* t: execution time\n",
    "* $10^{-9}$: convertion to `GigaFLOPS` (since modern cpus can easily perform\n",
    "gigas of operations per second)\n"
   ]
  },
  {
   "cell_type": "code",
   "execution_count": 5,
   "metadata": {},
   "outputs": [
    {
     "data": {
      "image/png": "[encoded data removed]",
      "text/plain": [
       "<Figure size 576x360 with 1 Axes>"
      ]
     },
     "metadata": {
      "needs_background": "light"
     },
     "output_type": "display_data"
    }
   ],
   "source": [
    "fig, ax = plt.subplots(1, 1, figsize=figsize)\n",
    "ax.set_title(\"Dimension vs GFLOPS\")\n",
    "ax.set_xlabel('Dimension m = n = k')\n",
    "ax.set_ylabel('GFLOPS')\n",
    "ax.set_ylim(0, 2.5)\n",
    "mean_fig = ax.plot(data[:, 0], data[:, 4], '*k')\n",
    "mean_fig = ax.plot(data[:, 0], data[:, 4], 'k', label=\"IJP\")\n",
    "\n",
    "ax.legend(loc=\"upper left\", fontsize=\"x-large\")\n",
    "plt.show()"
   ]
  }
 ],
 "metadata": {
  "kernelspec": {
   "display_name": "Python 3",
   "language": "python",
   "name": "python3"
  },
  "language_info": {
   "codemirror_mode": {
    "name": "ipython",
    "version": 3
   },
   "file_extension": ".py",
   "mimetype": "text/x-python",
   "name": "python",
   "nbconvert_exporter": "python",
   "pygments_lexer": "ipython3",
   "version": "3.8.6"
  }
 },
 "nbformat": 4,
 "nbformat_minor": 4
}
