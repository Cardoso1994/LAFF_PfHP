{
 "cells": [
  {
   "cell_type": "code",
   "execution_count": 1,
   "metadata": {},
   "outputs": [],
   "source": [
    "from IPython.display import Image\n",
    "from oct2py import octave as oct\n",
    "from os.path import join\n",
    "import scipy.io as sio\n",
    "import numpy as np\n",
    "import matplotlib.pyplot as plt"
   ]
  },
  {
   "cell_type": "code",
   "execution_count": 2,
   "metadata": {},
   "outputs": [],
   "source": [
    "def get_matlab_data(directory, filename):\n",
    "    \"\"\"\n",
    "    Imports the matlab scripts generated during execution of\n",
    "        C codes, and returns an array with the data neccesary\n",
    "        for analysis of performance\n",
    "    \"\"\"\n",
    "    print(\"before cd\")\n",
    "    oct.eval(f\"cd {directory};\")\n",
    "    print(f\"before running {filename}\")\n",
    "    oct.eval(f\"{filename};\")\n",
    "    print(\"before saving\")\n",
    "    oct.eval(f\"save -v7 {filename}.mat;\")\n",
    "    print(\"before loading\")\n",
    "    data = sio.loadmat(f\"{join(directory, filename)}.mat\")\n",
    "\n",
    "    return data['data']"
   ]
  },
  {
   "cell_type": "markdown",
   "metadata": {},
   "source": [
    "# Layering Matrix-Matrix Multiplication\n",
    "\n",
    "## The dot product (inner product)"
   ]
  }
 ],
 "metadata": {
  "kernelspec": {
   "display_name": "Python 3",
   "language": "python",
   "name": "python3"
  },
  "language_info": {
   "codemirror_mode": {
    "name": "ipython",
    "version": 3
   },
   "file_extension": ".py",
   "mimetype": "text/x-python",
   "name": "python",
   "nbconvert_exporter": "python",
   "pygments_lexer": "ipython3",
   "version": "3.8.6"
  }
 },
 "nbformat": 4,
 "nbformat_minor": 4
}
